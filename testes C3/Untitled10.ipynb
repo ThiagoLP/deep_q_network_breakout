{
 "cells": [
  {
   "cell_type": "markdown",
   "id": "25bfef08",
   "metadata": {},
   "source": [
    "# 1. Resolver as dependências"
   ]
  },
  {
   "cell_type": "code",
   "execution_count": 4,
   "id": "0580bf7d",
   "metadata": {},
   "outputs": [
    {
     "name": "stdout",
     "output_type": "stream",
     "text": [
      "Requirement already satisfied: tensorflow in c:\\users\\thiag\\anaconda3\\envs\\new_env\\lib\\site-packages (2.5.0)\n",
      "Requirement already satisfied: keras in c:\\users\\thiag\\anaconda3\\envs\\new_env\\lib\\site-packages (2.4.3)\n",
      "Requirement already satisfied: keras-rl2 in c:\\users\\thiag\\anaconda3\\envs\\new_env\\lib\\site-packages (1.0.5)\n",
      "Requirement already satisfied: gym in c:\\users\\thiag\\anaconda3\\envs\\new_env\\lib\\site-packages (0.21.0)\n",
      "Requirement already satisfied: ale-py in c:\\users\\thiag\\anaconda3\\envs\\new_env\\lib\\site-packages (0.7.3)\n",
      "Requirement already satisfied: termcolor>=1.1.0 in c:\\users\\thiag\\anaconda3\\envs\\new_env\\lib\\site-packages (from tensorflow) (1.1.0)\n",
      "Requirement already satisfied: tensorflow-estimator<2.6.0,>=2.5.0rc0 in c:\\users\\thiag\\anaconda3\\envs\\new_env\\lib\\site-packages (from tensorflow) (2.5.0)\n",
      "Requirement already satisfied: google-pasta~=0.2 in c:\\users\\thiag\\anaconda3\\envs\\new_env\\lib\\site-packages (from tensorflow) (0.2.0)\n",
      "Requirement already satisfied: h5py>=3.1.0 in c:\\users\\thiag\\anaconda3\\envs\\new_env\\lib\\site-packages (from tensorflow) (3.6.0)\n",
      "Requirement already satisfied: wheel>=0.35 in c:\\users\\thiag\\anaconda3\\envs\\new_env\\lib\\site-packages (from tensorflow) (0.35.1)\n",
      "Requirement already satisfied: flatbuffers~=1.12 in c:\\users\\thiag\\anaconda3\\envs\\new_env\\lib\\site-packages (from tensorflow) (1.12)\n",
      "Requirement already satisfied: absl-py~=0.10 in c:\\users\\thiag\\anaconda3\\envs\\new_env\\lib\\site-packages (from tensorflow) (0.13.0)\n",
      "Requirement already satisfied: gast==0.4.0 in c:\\users\\thiag\\anaconda3\\envs\\new_env\\lib\\site-packages (from tensorflow) (0.4.0)\n",
      "Requirement already satisfied: grpcio~=1.34.0 in c:\\users\\thiag\\anaconda3\\envs\\new_env\\lib\\site-packages (from tensorflow) (1.34.1)\n",
      "Requirement already satisfied: keras-preprocessing>=1.1.2 in c:\\users\\thiag\\anaconda3\\envs\\new_env\\lib\\site-packages (from tensorflow) (1.1.2)\n",
      "Requirement already satisfied: tensorboard~=2.5 in c:\\users\\thiag\\anaconda3\\envs\\new_env\\lib\\site-packages (from tensorflow) (2.5.0)\n",
      "Requirement already satisfied: astunparse~=1.6.3 in c:\\users\\thiag\\anaconda3\\envs\\new_env\\lib\\site-packages (from tensorflow) (1.6.3)\n",
      "Requirement already satisfied: typing-extensions>=3.7.4 in c:\\users\\thiag\\anaconda3\\envs\\new_env\\lib\\site-packages (from tensorflow) (3.10.0.2)\n",
      "Requirement already satisfied: opt-einsum~=3.3.0 in c:\\users\\thiag\\anaconda3\\envs\\new_env\\lib\\site-packages (from tensorflow) (3.3.0)\n",
      "Requirement already satisfied: wrapt>=1.11.2 in c:\\users\\thiag\\anaconda3\\envs\\new_env\\lib\\site-packages (from tensorflow) (1.12.1)\n",
      "Requirement already satisfied: six>=1.15.0 in c:\\users\\thiag\\anaconda3\\envs\\new_env\\lib\\site-packages (from tensorflow) (1.16.0)\n",
      "Requirement already satisfied: protobuf>=3.9.2 in c:\\users\\thiag\\anaconda3\\envs\\new_env\\lib\\site-packages (from tensorflow) (3.14.0)\n",
      "Requirement already satisfied: numpy>=1.19 in c:\\users\\thiag\\anaconda3\\envs\\new_env\\lib\\site-packages (from tensorflow) (1.21.2)\n",
      "Requirement already satisfied: scipy>=0.14 in c:\\users\\thiag\\anaconda3\\envs\\new_env\\lib\\site-packages (from keras) (1.7.1)\n",
      "Requirement already satisfied: pyyaml in c:\\users\\thiag\\anaconda3\\envs\\new_env\\lib\\site-packages (from keras) (6.0)\n",
      "Requirement already satisfied: cloudpickle>=1.2.0 in c:\\users\\thiag\\anaconda3\\envs\\new_env\\lib\\site-packages (from gym) (2.0.0)\n",
      "Requirement already satisfied: importlib-resources in c:\\users\\thiag\\anaconda3\\envs\\new_env\\lib\\site-packages (from ale-py) (5.4.0)\n",
      "Requirement already satisfied: tensorboard-plugin-wit>=1.6.0 in c:\\users\\thiag\\anaconda3\\envs\\new_env\\lib\\site-packages (from tensorboard~=2.5->tensorflow) (1.6.0)\n",
      "Requirement already satisfied: requests<3,>=2.21.0 in c:\\users\\thiag\\anaconda3\\envs\\new_env\\lib\\site-packages (from tensorboard~=2.5->tensorflow) (2.26.0)\n",
      "Requirement already satisfied: markdown>=2.6.8 in c:\\users\\thiag\\anaconda3\\envs\\new_env\\lib\\site-packages (from tensorboard~=2.5->tensorflow) (3.3.4)\n",
      "Requirement already satisfied: setuptools>=41.0.0 in c:\\users\\thiag\\anaconda3\\envs\\new_env\\lib\\site-packages (from tensorboard~=2.5->tensorflow) (58.0.4)\n",
      "Requirement already satisfied: tensorboard-data-server<0.7.0,>=0.6.0 in c:\\users\\thiag\\anaconda3\\envs\\new_env\\lib\\site-packages (from tensorboard~=2.5->tensorflow) (0.6.1)\n",
      "Requirement already satisfied: werkzeug>=0.11.15 in c:\\users\\thiag\\anaconda3\\envs\\new_env\\lib\\site-packages (from tensorboard~=2.5->tensorflow) (2.0.2)\n",
      "Requirement already satisfied: google-auth<2,>=1.6.3 in c:\\users\\thiag\\anaconda3\\envs\\new_env\\lib\\site-packages (from tensorboard~=2.5->tensorflow) (1.33.0)\n",
      "Requirement already satisfied: google-auth-oauthlib<0.5,>=0.4.1 in c:\\users\\thiag\\anaconda3\\envs\\new_env\\lib\\site-packages (from tensorboard~=2.5->tensorflow) (0.4.1)\n",
      "Requirement already satisfied: cachetools<5.0,>=2.0.0 in c:\\users\\thiag\\anaconda3\\envs\\new_env\\lib\\site-packages (from google-auth<2,>=1.6.3->tensorboard~=2.5->tensorflow) (4.2.2)\n",
      "Requirement already satisfied: rsa<5,>=3.1.4 in c:\\users\\thiag\\anaconda3\\envs\\new_env\\lib\\site-packages (from google-auth<2,>=1.6.3->tensorboard~=2.5->tensorflow) (4.7.2)\n",
      "Requirement already satisfied: pyasn1-modules>=0.2.1 in c:\\users\\thiag\\anaconda3\\envs\\new_env\\lib\\site-packages (from google-auth<2,>=1.6.3->tensorboard~=2.5->tensorflow) (0.2.8)\n",
      "Requirement already satisfied: requests-oauthlib>=0.7.0 in c:\\users\\thiag\\anaconda3\\envs\\new_env\\lib\\site-packages (from google-auth-oauthlib<0.5,>=0.4.1->tensorboard~=2.5->tensorflow) (1.3.0)\n",
      "Requirement already satisfied: pyasn1<0.5.0,>=0.4.6 in c:\\users\\thiag\\anaconda3\\envs\\new_env\\lib\\site-packages (from pyasn1-modules>=0.2.1->google-auth<2,>=1.6.3->tensorboard~=2.5->tensorflow) (0.4.8)\n",
      "Requirement already satisfied: certifi>=2017.4.17 in c:\\users\\thiag\\anaconda3\\envs\\new_env\\lib\\site-packages (from requests<3,>=2.21.0->tensorboard~=2.5->tensorflow) (2021.10.8)\n",
      "Requirement already satisfied: charset-normalizer~=2.0.0 in c:\\users\\thiag\\anaconda3\\envs\\new_env\\lib\\site-packages (from requests<3,>=2.21.0->tensorboard~=2.5->tensorflow) (2.0.4)\n",
      "Requirement already satisfied: urllib3<1.27,>=1.21.1 in c:\\users\\thiag\\anaconda3\\envs\\new_env\\lib\\site-packages (from requests<3,>=2.21.0->tensorboard~=2.5->tensorflow) (1.26.7)\n",
      "Requirement already satisfied: idna<4,>=2.5 in c:\\users\\thiag\\anaconda3\\envs\\new_env\\lib\\site-packages (from requests<3,>=2.21.0->tensorboard~=2.5->tensorflow) (3.2)\n",
      "Requirement already satisfied: oauthlib>=3.0.0 in c:\\users\\thiag\\anaconda3\\envs\\new_env\\lib\\site-packages (from requests-oauthlib>=0.7.0->google-auth-oauthlib<0.5,>=0.4.1->tensorboard~=2.5->tensorflow) (3.1.1)\n",
      "Requirement already satisfied: zipp>=3.1.0 in c:\\users\\thiag\\anaconda3\\envs\\new_env\\lib\\site-packages (from importlib-resources->ale-py) (3.6.0)\n"
     ]
    }
   ],
   "source": [
    "!pip install tensorflow keras keras-rl2 gym gym[atari] ale-py"
   ]
  },
  {
   "cell_type": "markdown",
   "id": "7022f433",
   "metadata": {},
   "source": [
    "# 2. Setup"
   ]
  },
  {
   "cell_type": "code",
   "execution_count": 5,
   "id": "85107fdc",
   "metadata": {},
   "outputs": [
    {
     "name": "stderr",
     "output_type": "stream",
     "text": [
      "C:\\Users\\thiag\\anaconda3\\envs\\new_env\\lib\\site-packages\\ale_py\\roms\\__init__.py:94: DeprecationWarning: Automatic importing of atari-py roms won't be supported in future releases of ale-py. Please migrate over to using `ale-import-roms` OR an ALE-supported ROM package. To make this warning disappear you can run `ale-import-roms --import-from-pkg atari_py.atari_roms`.For more information see: https://github.com/mgbellemare/Arcade-Learning-Environment#rom-management\n",
      "  _RESOLVED_ROMS = _resolve_roms()\n"
     ]
    }
   ],
   "source": [
    "import gym\n",
    "import ale_py\n",
    "import random\n",
    "import numpy as np\n",
    "import tensorflow as tf\n",
    "from tensorflow import keras\n",
    "from keras import layers\n",
    "import rl\n",
    "from rl.agents import DQNAgent\n",
    "from rl.policy import BoltzmannQPolicy\n",
    "from rl.memory import SequentialMemory"
   ]
  },
  {
   "cell_type": "code",
   "execution_count": 6,
   "id": "1f9e6096",
   "metadata": {},
   "outputs": [
    {
     "name": "stdout",
     "output_type": "stream",
     "text": [
      "gym: 0.21.0\n",
      "ale_py: 0.7.3\n",
      "numpy: 1.21.2\n",
      "tensorflow: 2.5.0\n",
      "keras: 2.5.0\n"
     ]
    }
   ],
   "source": [
    "print('gym:', gym.__version__)\n",
    "print('ale_py:', ale_py.__version__)\n",
    "print('numpy:', np.__version__)\n",
    "print('tensorflow:', tf.__version__)\n",
    "print('keras:', keras.__version__)"
   ]
  },
  {
   "cell_type": "code",
   "execution_count": 7,
   "id": "18cde11e",
   "metadata": {},
   "outputs": [],
   "source": [
    "#ENV_NAME = 'CartPole-v0'\n",
    "#ENV_NAME = 'MsPacman-v0'\n",
    "ENV_NAME = 'MsPacman-ram-v0'"
   ]
  },
  {
   "cell_type": "code",
   "execution_count": 8,
   "id": "375460f2",
   "metadata": {},
   "outputs": [],
   "source": [
    "env = gym.make(ENV_NAME)"
   ]
  },
  {
   "cell_type": "code",
   "execution_count": 9,
   "id": "4c6c1bd1",
   "metadata": {},
   "outputs": [
    {
     "data": {
      "text/plain": [
       "['NOOP',\n",
       " 'UP',\n",
       " 'RIGHT',\n",
       " 'LEFT',\n",
       " 'DOWN',\n",
       " 'UPRIGHT',\n",
       " 'UPLEFT',\n",
       " 'DOWNRIGHT',\n",
       " 'DOWNLEFT']"
      ]
     },
     "execution_count": 9,
     "metadata": {},
     "output_type": "execute_result"
    }
   ],
   "source": [
    "env.unwrapped.get_action_meanings()"
   ]
  },
  {
   "cell_type": "code",
   "execution_count": 10,
   "id": "fdd713b6",
   "metadata": {},
   "outputs": [],
   "source": [
    "seed = 42\n",
    "#seed = 123\n",
    "max_steps_per_episode = 50000"
   ]
  },
  {
   "cell_type": "code",
   "execution_count": 11,
   "id": "4181768a",
   "metadata": {},
   "outputs": [],
   "source": [
    "np.random.seed(seed)\n",
    "env.seed(seed)\n",
    "nb_actions = env.action_space.n"
   ]
  },
  {
   "cell_type": "markdown",
   "id": "f3f1c11c",
   "metadata": {},
   "source": [
    "# 3. Cria Deep Learning Model com Keras"
   ]
  },
  {
   "cell_type": "code",
   "execution_count": 12,
   "id": "b59028be",
   "metadata": {},
   "outputs": [],
   "source": [
    "def build_model(env):\n",
    "    model = keras.Sequential()\n",
    "    model.add(keras.layers.Flatten(input_shape=(1,) + env.observation_space.shape))\n",
    "    model.add(keras.layers.Dense(16))\n",
    "    model.add(keras.layers.Activation('relu'))\n",
    "    model.add(keras.layers.Dense(16))\n",
    "    model.add(layers.Activation('relu'))\n",
    "    model.add(layers.Dense(16))\n",
    "    model.add(layers.Activation('relu'))\n",
    "    model.add(layers.Dense(env.action_space.n))\n",
    "    model.add(layers.Activation('linear'))\n",
    "    #print(model.summary())\n",
    "    return model"
   ]
  },
  {
   "cell_type": "code",
   "execution_count": 13,
   "id": "2ab7c7bb",
   "metadata": {},
   "outputs": [],
   "source": [
    "model = build_model(env)"
   ]
  },
  {
   "cell_type": "markdown",
   "id": "62e07838",
   "metadata": {},
   "source": [
    "# 4. Cria Agent com Keras-RL"
   ]
  },
  {
   "cell_type": "code",
   "execution_count": 14,
   "id": "099963e8",
   "metadata": {},
   "outputs": [],
   "source": [
    "def build_agent(model, env):\n",
    "    policy = BoltzmannQPolicy()\n",
    "    memory = SequentialMemory(limit=max_steps_per_episode, window_length=1)\n",
    "    dqn = DQNAgent(model=model, memory=memory, policy=policy, \n",
    "                  nb_actions=env.action_space.n, nb_steps_warmup=10, target_model_update=1e-2)\n",
    "    return dqn"
   ]
  },
  {
   "cell_type": "code",
   "execution_count": 15,
   "id": "b0a19f6c",
   "metadata": {},
   "outputs": [],
   "source": [
    "dqn = build_agent(model, env)"
   ]
  },
  {
   "cell_type": "code",
   "execution_count": 16,
   "id": "9d842023",
   "metadata": {},
   "outputs": [],
   "source": [
    "dqn.compile(keras.optimizers.Adam(learning_rate=1e-3), metrics=['mae'])"
   ]
  },
  {
   "cell_type": "markdown",
   "id": "81ce3819",
   "metadata": {},
   "source": [
    "# 5. Treina "
   ]
  },
  {
   "cell_type": "code",
   "execution_count": 20,
   "id": "d8a01ff5",
   "metadata": {},
   "outputs": [],
   "source": [
    "import tensorflow as tf\n",
    "physical_devices = tf.config.list_physical_devices('GPU') \n",
    "for device in physical_devices:\n",
    "    tf.config.experimental.set_memory_growth(device, True)"
   ]
  },
  {
   "cell_type": "code",
   "execution_count": 21,
   "id": "2ebd82e6",
   "metadata": {},
   "outputs": [],
   "source": [
    "#import os\n",
    "#os.environ['TF_CPP_MIN_LOG_LEVEL'] = '3'\n",
    "#os.environ[\"CUDA_DEVICE_ORDER\"] = \"PCI_BUS_ID\"\n",
    "#os.environ[\"CUDA_VISIBLE_DEVICES\"] = '0' # Set to -1 if CPU should be used CPU = -1 , GPU = 0"
   ]
  },
  {
   "cell_type": "code",
   "execution_count": 35,
   "id": "66e0a24d",
   "metadata": {},
   "outputs": [
    {
     "name": "stdout",
     "output_type": "stream",
     "text": [
      "Episode:2 Score:140.0\n"
     ]
    },
    {
     "data": {
      "image/png": "[encoded data removed]",
      "text/plain": [
       "<Figure size 432x288 with 1 Axes>"
      ]
     },
     "metadata": {
      "needs_background": "light"
     },
     "output_type": "display_data"
    }
   ],
   "source": [
    "from IPython import display\n",
    "import matplotlib\n",
    "import matplotlib.pyplot as plt\n",
    "%matplotlib inline\n",
    "env.reset()\n",
    "img = plt.imshow(env.render(mode='rgb_array'))\n",
    "episodes = 2\n",
    "for episode in range(1, episodes+1):\n",
    "    state = env.reset()\n",
    "    done = False\n",
    "    score = 0\n",
    "\n",
    "    while not done:\n",
    "        img.set_data(env.render(mode='rgb_array'))\n",
    "        display.display(plt.gcf())\n",
    "        display.clear_output(wait=True)\n",
    "        action = random.choice([0,1,2,3,4,5])\n",
    "#        action = np.random.get_state() \n",
    "        n_state, reward, done, info = env.step(action)\n",
    "        score+=reward\n",
    "        env.step(action)\n",
    "        env.step(action)\n",
    "    print('Episode:{} Score:{}'.format(episode, score))\n",
    "        \n",
    "env.close()"
   ]
  },
  {
   "cell_type": "code",
   "execution_count": 42,
   "id": "5a12ea3b",
   "metadata": {
    "scrolled": true
   },
   "outputs": [
    {
     "name": "stdout",
     "output_type": "stream",
     "text": [
      "Training for 10000 steps ...\n",
      "Interval 1 (0 steps performed)\n",
      "10000/10000 [==============================] - 193s 19ms/step - reward: 0.3080\n",
      "done, took 193.412 seconds\n"
     ]
    },
    {
     "data": {
      "text/plain": [
       "<tensorflow.python.keras.callbacks.History at 0x1597e4a7ee0>"
      ]
     },
     "execution_count": 42,
     "metadata": {},
     "output_type": "execute_result"
    }
   ],
   "source": [
    "dqn.fit(env, nb_steps=max_steps_per_episode, visualize=False, verbose=1)\n",
    "#dqn.fit(env, nb_steps=50000, visualize=True, verbose=1)"
   ]
  },
  {
   "cell_type": "markdown",
   "id": "7769aec3",
   "metadata": {},
   "source": [
    "# 6. Preserva dados do Treino"
   ]
  },
  {
   "cell_type": "code",
   "execution_count": 19,
   "id": "9c3e18f3",
   "metadata": {},
   "outputs": [],
   "source": [
    "dqn.save_weights('dqn_{}_weights.h5f'.format(ENV_NAME), overwrite=True)"
   ]
  },
  {
   "cell_type": "code",
   "execution_count": 45,
   "id": "1202e91b",
   "metadata": {},
   "outputs": [
    {
     "name": "stdout",
     "output_type": "stream",
     "text": [
      "Testing for 100 episodes ...\n",
      "Episode 1: reward: 210.000, steps: 811\n",
      "Episode 2: reward: 210.000, steps: 811\n",
      "Episode 3: reward: 210.000, steps: 978\n",
      "Episode 4: reward: 210.000, steps: 968\n",
      "Episode 5: reward: 210.000, steps: 980\n",
      "Episode 6: reward: 210.000, steps: 803\n",
      "Episode 7: reward: 210.000, steps: 816\n",
      "Episode 8: reward: 210.000, steps: 802\n",
      "Episode 9: reward: 210.000, steps: 984\n",
      "Episode 10: reward: 210.000, steps: 815\n",
      "Episode 11: reward: 210.000, steps: 809\n",
      "Episode 12: reward: 210.000, steps: 991\n",
      "Episode 13: reward: 210.000, steps: 818\n",
      "Episode 14: reward: 210.000, steps: 936\n",
      "Episode 15: reward: 210.000, steps: 811\n",
      "Episode 16: reward: 210.000, steps: 813\n",
      "Episode 17: reward: 210.000, steps: 802\n",
      "Episode 18: reward: 210.000, steps: 794\n",
      "Episode 19: reward: 210.000, steps: 811\n",
      "Episode 20: reward: 210.000, steps: 809\n",
      "Episode 21: reward: 210.000, steps: 805\n",
      "Episode 22: reward: 210.000, steps: 986\n",
      "Episode 23: reward: 210.000, steps: 791\n",
      "Episode 24: reward: 210.000, steps: 800\n",
      "Episode 25: reward: 210.000, steps: 983\n",
      "Episode 26: reward: 210.000, steps: 992\n",
      "Episode 27: reward: 210.000, steps: 986\n",
      "Episode 28: reward: 210.000, steps: 814\n",
      "Episode 29: reward: 210.000, steps: 816\n",
      "Episode 30: reward: 210.000, steps: 808\n",
      "Episode 31: reward: 210.000, steps: 982\n",
      "Episode 32: reward: 210.000, steps: 972\n",
      "Episode 33: reward: 210.000, steps: 816\n",
      "Episode 34: reward: 210.000, steps: 807\n",
      "Episode 35: reward: 210.000, steps: 978\n",
      "Episode 36: reward: 210.000, steps: 811\n",
      "Episode 37: reward: 210.000, steps: 801\n",
      "Episode 38: reward: 210.000, steps: 810\n",
      "Episode 39: reward: 210.000, steps: 940\n",
      "Episode 40: reward: 210.000, steps: 982\n",
      "Episode 41: reward: 210.000, steps: 818\n",
      "Episode 42: reward: 210.000, steps: 986\n",
      "Episode 43: reward: 210.000, steps: 818\n",
      "Episode 44: reward: 210.000, steps: 805\n",
      "Episode 45: reward: 210.000, steps: 978\n",
      "Episode 46: reward: 210.000, steps: 815\n",
      "Episode 47: reward: 210.000, steps: 819\n",
      "Episode 48: reward: 210.000, steps: 798\n",
      "Episode 49: reward: 210.000, steps: 814\n",
      "Episode 50: reward: 210.000, steps: 814\n",
      "Episode 51: reward: 210.000, steps: 802\n",
      "Episode 52: reward: 210.000, steps: 803\n",
      "Episode 53: reward: 210.000, steps: 982\n",
      "Episode 54: reward: 210.000, steps: 809\n",
      "Episode 55: reward: 210.000, steps: 810\n",
      "Episode 56: reward: 210.000, steps: 975\n",
      "Episode 57: reward: 210.000, steps: 975\n",
      "Episode 58: reward: 210.000, steps: 813\n",
      "Episode 59: reward: 210.000, steps: 970\n",
      "Episode 60: reward: 210.000, steps: 968\n",
      "Episode 61: reward: 210.000, steps: 974\n",
      "Episode 62: reward: 210.000, steps: 824\n",
      "Episode 63: reward: 210.000, steps: 991\n",
      "Episode 64: reward: 210.000, steps: 963\n",
      "Episode 65: reward: 210.000, steps: 805\n",
      "Episode 66: reward: 210.000, steps: 986\n",
      "Episode 67: reward: 210.000, steps: 811\n",
      "Episode 68: reward: 210.000, steps: 810\n",
      "Episode 69: reward: 210.000, steps: 983\n",
      "Episode 70: reward: 210.000, steps: 808\n",
      "Episode 71: reward: 210.000, steps: 813\n",
      "Episode 72: reward: 210.000, steps: 981\n",
      "Episode 73: reward: 210.000, steps: 809\n",
      "Episode 74: reward: 210.000, steps: 971\n",
      "Episode 75: reward: 210.000, steps: 963\n",
      "Episode 76: reward: 210.000, steps: 806\n",
      "Episode 77: reward: 210.000, steps: 813\n",
      "Episode 78: reward: 210.000, steps: 811\n",
      "Episode 79: reward: 210.000, steps: 817\n",
      "Episode 80: reward: 210.000, steps: 818\n",
      "Episode 81: reward: 210.000, steps: 803\n",
      "Episode 82: reward: 210.000, steps: 979\n",
      "Episode 83: reward: 210.000, steps: 804\n",
      "Episode 84: reward: 210.000, steps: 813\n",
      "Episode 85: reward: 210.000, steps: 795\n",
      "Episode 86: reward: 210.000, steps: 807\n",
      "Episode 87: reward: 210.000, steps: 808\n",
      "Episode 88: reward: 210.000, steps: 814\n",
      "Episode 89: reward: 210.000, steps: 810\n",
      "Episode 90: reward: 210.000, steps: 816\n",
      "Episode 91: reward: 210.000, steps: 801\n",
      "Episode 92: reward: 210.000, steps: 989\n",
      "Episode 93: reward: 210.000, steps: 813\n",
      "Episode 94: reward: 210.000, steps: 814\n",
      "Episode 95: reward: 210.000, steps: 809\n",
      "Episode 96: reward: 210.000, steps: 802\n",
      "Episode 97: reward: 210.000, steps: 816\n",
      "Episode 98: reward: 210.000, steps: 814\n",
      "Episode 99: reward: 210.000, steps: 967\n",
      "Episode 100: reward: 210.000, steps: 825\n",
      "210.0\n"
     ]
    }
   ],
   "source": [
    "scores = dqn.test(env, nb_episodes=100, visualize=False)\n",
    "print(np.mean(scores.history['episode_reward']))"
   ]
  },
  {
   "cell_type": "markdown",
   "id": "3bafe86e",
   "metadata": {},
   "source": [
    "# 7. Recarrega dados do Treino na Memória"
   ]
  },
  {
   "cell_type": "code",
   "execution_count": 2,
   "id": "77acb348",
   "metadata": {},
   "outputs": [
    {
     "ename": "NameError",
     "evalue": "name 'model' is not defined",
     "output_type": "error",
     "traceback": [
      "\u001b[1;31m---------------------------------------------------------------------------\u001b[0m",
      "\u001b[1;31mNameError\u001b[0m                                 Traceback (most recent call last)",
      "\u001b[1;32m~\\AppData\\Local\\Temp/ipykernel_11472/2900014330.py\u001b[0m in \u001b[0;36m<module>\u001b[1;34m\u001b[0m\n\u001b[1;32m----> 1\u001b[1;33m \u001b[1;32mdel\u001b[0m \u001b[0mmodel\u001b[0m\u001b[1;33m\u001b[0m\u001b[1;33m\u001b[0m\u001b[0m\n\u001b[0m\u001b[0;32m      2\u001b[0m \u001b[1;32mdel\u001b[0m \u001b[0mdqn\u001b[0m\u001b[1;33m\u001b[0m\u001b[1;33m\u001b[0m\u001b[0m\n\u001b[0;32m      3\u001b[0m \u001b[1;32mdel\u001b[0m \u001b[0menv\u001b[0m\u001b[1;33m\u001b[0m\u001b[1;33m\u001b[0m\u001b[0m\n",
      "\u001b[1;31mNameError\u001b[0m: name 'model' is not defined"
     ]
    }
   ],
   "source": [
    "del model\n",
    "del dqn\n",
    "del env"
   ]
  },
  {
   "cell_type": "code",
   "execution_count": 37,
   "id": "0296005a",
   "metadata": {},
   "outputs": [],
   "source": [
    "env = gym.make(ENV_NAME)\n",
    "actions = env.action_space.n\n",
    "states = env.observation_space.shape[0]\n",
    "model = build_model(env)\n",
    "dqn = build_agent(model, env)\n",
    "dqn.compile(keras.optimizers.Adam(learning_rate=1e-3), metrics=['mae'])"
   ]
  },
  {
   "cell_type": "code",
   "execution_count": 34,
   "id": "536ef645",
   "metadata": {},
   "outputs": [],
   "source": [
    "dqn.load_weights('dqn_{}_weights.h5f'.format(ENV_NAME))"
   ]
  },
  {
   "cell_type": "code",
   "execution_count": 1,
   "id": "70f51be9",
   "metadata": {},
   "outputs": [
    {
     "ename": "NameError",
     "evalue": "name 'dqn' is not defined",
     "output_type": "error",
     "traceback": [
      "\u001b[1;31m---------------------------------------------------------------------------\u001b[0m",
      "\u001b[1;31mNameError\u001b[0m                                 Traceback (most recent call last)",
      "\u001b[1;32m~\\AppData\\Local\\Temp/ipykernel_11472/1767550949.py\u001b[0m in \u001b[0;36m<module>\u001b[1;34m\u001b[0m\n\u001b[1;32m----> 1\u001b[1;33m \u001b[0m_\u001b[0m \u001b[1;33m=\u001b[0m \u001b[0mdqn\u001b[0m\u001b[1;33m.\u001b[0m\u001b[0mtest\u001b[0m\u001b[1;33m(\u001b[0m\u001b[0menv\u001b[0m\u001b[1;33m,\u001b[0m \u001b[0mnb_episodes\u001b[0m\u001b[1;33m=\u001b[0m\u001b[1;36m5\u001b[0m\u001b[1;33m,\u001b[0m \u001b[0mvisualize\u001b[0m\u001b[1;33m=\u001b[0m\u001b[1;32mFalse\u001b[0m\u001b[1;33m)\u001b[0m\u001b[1;33m\u001b[0m\u001b[1;33m\u001b[0m\u001b[0m\n\u001b[0m",
      "\u001b[1;31mNameError\u001b[0m: name 'dqn' is not defined"
     ]
    }
   ],
   "source": [
    "_ = dqn.test(env, nb_episodes=5, visualize=False)"
   ]
  },
  {
   "cell_type": "code",
   "execution_count": 3,
   "id": "49e58f6d",
   "metadata": {},
   "outputs": [
    {
     "ename": "NameError",
     "evalue": "name 'env' is not defined",
     "output_type": "error",
     "traceback": [
      "\u001b[1;31m---------------------------------------------------------------------------\u001b[0m",
      "\u001b[1;31mNameError\u001b[0m                                 Traceback (most recent call last)",
      "\u001b[1;32m~\\AppData\\Local\\Temp/ipykernel_11472/2381589818.py\u001b[0m in \u001b[0;36m<module>\u001b[1;34m\u001b[0m\n\u001b[1;32m----> 1\u001b[1;33m \u001b[0menv\u001b[0m\u001b[1;33m.\u001b[0m\u001b[0mhistory\u001b[0m\u001b[1;33m\u001b[0m\u001b[1;33m\u001b[0m\u001b[0m\n\u001b[0m",
      "\u001b[1;31mNameError\u001b[0m: name 'env' is not defined"
     ]
    }
   ],
   "source": [
    "env.history"
   ]
  },
  {
   "cell_type": "code",
   "execution_count": null,
   "id": "336ceacc",
   "metadata": {},
   "outputs": [],
   "source": [
    "from IPython import display\n",
    "import matplotlib\n",
    "import matplotlib.pyplot as plt\n",
    "%matplotlib inline\n",
    "env.reset()\n",
    "img = plt.imshow(env.render(mode='rgb_array'))\n",
    "episodes = 2\n",
    "for episode in range(1, episodes+1):\n",
    "    state = env.reset()\n",
    "    done = False\n",
    "    score = 0\n",
    "\n",
    "    while not done:\n",
    "        img.set_data(env.render(mode='rgb_array'))\n",
    "        display.display(plt.gcf())\n",
    "        display.clear_output(wait=True)\n",
    "        action = random.choice([0,1,2,3,4,5])\n",
    "#        action = np.random.get_state() \n",
    "        n_state, reward, done, info = env.step(action)\n",
    "        score+=reward\n",
    "        env.step(action)\n",
    "        env.step(action)\n",
    "    print('Episode:{} Score:{}'.format(episode, score))\n",
    "        \n",
    "env.close()"
   ]
  }
 ],
 "metadata": {
  "kernelspec": {
   "display_name": "Python 3 (ipykernel)",
   "language": "python",
   "name": "python3"
  },
  "language_info": {
   "codemirror_mode": {
    "name": "ipython",
    "version": 3
   },
   "file_extension": ".py",
   "mimetype": "text/x-python",
   "name": "python",
   "nbconvert_exporter": "python",
   "pygments_lexer": "ipython3",
   "version": "3.9.7"
  }
 },
 "nbformat": 4,
 "nbformat_minor": 5
}
