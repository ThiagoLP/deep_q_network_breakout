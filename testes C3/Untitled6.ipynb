{
 "cells": [
  {
   "cell_type": "code",
   "execution_count": 7,
   "id": "a5d3aa8d",
   "metadata": {},
   "outputs": [
    {
     "name": "stderr",
     "output_type": "stream",
     "text": [
      "  % Total    % Received % Xferd  Average Speed   Time    Time     Time  Current\n",
      "                                 Dload  Upload   Total   Spent    Left  Speed\n",
      "\n",
      "  0     0    0     0    0     0      0      0 --:--:-- --:--:-- --:--:--     0\n",
      "100 18581  100 18581    0     0   142k      0 --:--:-- --:--:-- --:--:--  144k\n"
     ]
    }
   ],
   "source": [
    "!curl -O \"https://raw.githubusercontent.com/openai/gym/master/gym/envs/box2d/lunar_lander.py\""
   ]
  },
  {
   "cell_type": "code",
   "execution_count": 10,
   "id": "9813e49c",
   "metadata": {},
   "outputs": [
    {
     "name": "stdout",
     "output_type": "stream",
     "text": [
      "Collecting Box2DNote: you may need to restart the kernel to use updated packages.\n"
     ]
    },
    {
     "name": "stderr",
     "output_type": "stream",
     "text": [
      "  ERROR: Command errored out with exit status 1:\n",
      "   command: 'C:\\Users\\thiag\\anaconda3\\envs\\new_env\\python.exe' -u -c 'import io, os, sys, setuptools, tokenize; sys.argv[0] = '\"'\"'C:\\\\Users\\\\thiag\\\\AppData\\\\Local\\\\Temp\\\\pip-install-sxbc5uok\\\\box2d_245e6954c95f4f4b9496b84c0a809258\\\\setup.py'\"'\"'; __file__='\"'\"'C:\\\\Users\\\\thiag\\\\AppData\\\\Local\\\\Temp\\\\pip-install-sxbc5uok\\\\box2d_245e6954c95f4f4b9496b84c0a809258\\\\setup.py'\"'\"';f = getattr(tokenize, '\"'\"'open'\"'\"', open)(__file__) if os.path.exists(__file__) else io.StringIO('\"'\"'from setuptools import setup; setup()'\"'\"');code = f.read().replace('\"'\"'\\r\\n'\"'\"', '\"'\"'\\n'\"'\"');f.close();exec(compile(code, __file__, '\"'\"'exec'\"'\"'))' bdist_wheel -d 'C:\\Users\\thiag\\AppData\\Local\\Temp\\pip-wheel-m4xtd53s'\n",
      "       cwd: C:\\Users\\thiag\\AppData\\Local\\Temp\\pip-install-sxbc5uok\\box2d_245e6954c95f4f4b9496b84c0a809258\\\n",
      "  Complete output (16 lines):\n",
      "  Using setuptools (version 58.0.4).\n",
      "  running bdist_wheel\n",
      "  running build\n",
      "  running build_py\n",
      "  creating build\n",
      "  creating build\\lib.win-amd64-3.9\n",
      "  creating build\\lib.win-amd64-3.9\\Box2D\n",
      "  copying library\\Box2D\\Box2D.py -> build\\lib.win-amd64-3.9\\Box2D\n",
      "  copying library\\Box2D\\__init__.py -> build\\lib.win-amd64-3.9\\Box2D\n",
      "  creating build\\lib.win-amd64-3.9\\Box2D\\b2\n",
      "  copying library\\Box2D\\b2\\__init__.py -> build\\lib.win-amd64-3.9\\Box2D\\b2\n",
      "  running build_ext\n",
      "  building 'Box2D._Box2D' extension\n",
      "  swigging Box2D\\Box2D.i to Box2D\\Box2D_wrap.cpp\n",
      "  swig.exe -python -c++ -IBox2D -small -O -includeall -ignoremissing -w201 -globals b2Globals -outdir library\\Box2D -keyword -w511 -D_SWIG_KWARGS -o Box2D\\Box2D_wrap.cpp Box2D\\Box2D.i\n",
      "  error: command 'swig.exe' failed: None\n",
      "  ----------------------------------------\n",
      "  ERROR: Failed building wheel for Box2D\n",
      "    ERROR: Command errored out with exit status 1:\n",
      "     command: 'C:\\Users\\thiag\\anaconda3\\envs\\new_env\\python.exe' -u -c 'import io, os, sys, setuptools, tokenize; sys.argv[0] = '\"'\"'C:\\\\Users\\\\thiag\\\\AppData\\\\Local\\\\Temp\\\\pip-install-sxbc5uok\\\\box2d_245e6954c95f4f4b9496b84c0a809258\\\\setup.py'\"'\"'; __file__='\"'\"'C:\\\\Users\\\\thiag\\\\AppData\\\\Local\\\\Temp\\\\pip-install-sxbc5uok\\\\box2d_245e6954c95f4f4b9496b84c0a809258\\\\setup.py'\"'\"';f = getattr(tokenize, '\"'\"'open'\"'\"', open)(__file__) if os.path.exists(__file__) else io.StringIO('\"'\"'from setuptools import setup; setup()'\"'\"');code = f.read().replace('\"'\"'\\r\\n'\"'\"', '\"'\"'\\n'\"'\"');f.close();exec(compile(code, __file__, '\"'\"'exec'\"'\"'))' install --record 'C:\\Users\\thiag\\AppData\\Local\\Temp\\pip-record-5iq61rf9\\install-record.txt' --single-version-externally-managed --compile --install-headers 'C:\\Users\\thiag\\anaconda3\\envs\\new_env\\Include\\Box2D'\n",
      "         cwd: C:\\Users\\thiag\\AppData\\Local\\Temp\\pip-install-sxbc5uok\\box2d_245e6954c95f4f4b9496b84c0a809258\\\n",
      "    Complete output (16 lines):\n",
      "    Using setuptools (version 58.0.4).\n",
      "    running install\n",
      "    running build\n",
      "    running build_py\n",
      "    creating build\n",
      "    creating build\\lib.win-amd64-3.9\n",
      "    creating build\\lib.win-amd64-3.9\\Box2D\n",
      "    copying library\\Box2D\\Box2D.py -> build\\lib.win-amd64-3.9\\Box2D\n",
      "    copying library\\Box2D\\__init__.py -> build\\lib.win-amd64-3.9\\Box2D\n",
      "    creating build\\lib.win-amd64-3.9\\Box2D\\b2\n",
      "    copying library\\Box2D\\b2\\__init__.py -> build\\lib.win-amd64-3.9\\Box2D\\b2\n",
      "    running build_ext\n",
      "    building 'Box2D._Box2D' extension\n",
      "    swigging Box2D\\Box2D.i to Box2D\\Box2D_wrap.cpp\n",
      "    swig.exe -python -c++ -IBox2D -small -O -includeall -ignoremissing -w201 -globals b2Globals -outdir library\\Box2D -keyword -w511 -D_SWIG_KWARGS -o Box2D\\Box2D_wrap.cpp Box2D\\Box2D.i\n",
      "    error: command 'swig.exe' failed: None\n",
      "    ----------------------------------------\n",
      "ERROR: Command errored out with exit status 1: 'C:\\Users\\thiag\\anaconda3\\envs\\new_env\\python.exe' -u -c 'import io, os, sys, setuptools, tokenize; sys.argv[0] = '\"'\"'C:\\\\Users\\\\thiag\\\\AppData\\\\Local\\\\Temp\\\\pip-install-sxbc5uok\\\\box2d_245e6954c95f4f4b9496b84c0a809258\\\\setup.py'\"'\"'; __file__='\"'\"'C:\\\\Users\\\\thiag\\\\AppData\\\\Local\\\\Temp\\\\pip-install-sxbc5uok\\\\box2d_245e6954c95f4f4b9496b84c0a809258\\\\setup.py'\"'\"';f = getattr(tokenize, '\"'\"'open'\"'\"', open)(__file__) if os.path.exists(__file__) else io.StringIO('\"'\"'from setuptools import setup; setup()'\"'\"');code = f.read().replace('\"'\"'\\r\\n'\"'\"', '\"'\"'\\n'\"'\"');f.close();exec(compile(code, __file__, '\"'\"'exec'\"'\"'))' install --record 'C:\\Users\\thiag\\AppData\\Local\\Temp\\pip-record-5iq61rf9\\install-record.txt' --single-version-externally-managed --compile --install-headers 'C:\\Users\\thiag\\anaconda3\\envs\\new_env\\Include\\Box2D' Check the logs for full command output.\n"
     ]
    },
    {
     "name": "stdout",
     "output_type": "stream",
     "text": [
      "\n",
      "  Downloading Box2D-2.3.2.tar.gz (427 kB)\n",
      "Building wheels for collected packages: Box2D\n",
      "  Building wheel for Box2D (setup.py): started\n",
      "  Building wheel for Box2D (setup.py): finished with status 'error'\n",
      "  Running setup.py clean for Box2D\n",
      "Failed to build Box2D\n",
      "Installing collected packages: Box2D\n",
      "    Running setup.py install for Box2D: started\n",
      "    Running setup.py install for Box2D: finished with status 'error'\n"
     ]
    }
   ],
   "source": [
    "pip install Box2D"
   ]
  },
  {
   "cell_type": "code",
   "execution_count": 9,
   "id": "bd8e58a7",
   "metadata": {},
   "outputs": [
    {
     "ename": "ModuleNotFoundError",
     "evalue": "No module named 'Box2D'",
     "output_type": "error",
     "traceback": [
      "\u001b[1;31m---------------------------------------------------------------------------\u001b[0m",
      "\u001b[1;31mModuleNotFoundError\u001b[0m                       Traceback (most recent call last)",
      "\u001b[1;32m~\\AppData\\Local\\Temp/ipykernel_4188/248027829.py\u001b[0m in \u001b[0;36m<module>\u001b[1;34m\u001b[0m\n\u001b[1;32m----> 1\u001b[1;33m \u001b[1;32mimport\u001b[0m \u001b[0mBox2D\u001b[0m\u001b[1;33m\u001b[0m\u001b[1;33m\u001b[0m\u001b[0m\n\u001b[0m",
      "\u001b[1;31mModuleNotFoundError\u001b[0m: No module named 'Box2D'"
     ]
    }
   ],
   "source": [
    "import Box2D"
   ]
  },
  {
   "cell_type": "code",
   "execution_count": 8,
   "id": "24ae19e2",
   "metadata": {},
   "outputs": [
    {
     "name": "stderr",
     "output_type": "stream",
     "text": [
      "Traceback (most recent call last):\n",
      "  File \"C:\\Users\\thiag\\Documents\\Python Scripts\\deep_q_network_breakout\\lunar_lander.py\", line 33, in <module>\n",
      "    import Box2D\n",
      "ModuleNotFoundError: No module named 'Box2D'\n"
     ]
    }
   ],
   "source": [
    "!python lunar_lander.py"
   ]
  },
  {
   "cell_type": "code",
   "execution_count": null,
   "id": "bebb03c3",
   "metadata": {},
   "outputs": [],
   "source": []
  }
 ],
 "metadata": {
  "kernelspec": {
   "display_name": "Python 3 (ipykernel)",
   "language": "python",
   "name": "python3"
  },
  "language_info": {
   "codemirror_mode": {
    "name": "ipython",
    "version": 3
   },
   "file_extension": ".py",
   "mimetype": "text/x-python",
   "name": "python",
   "nbconvert_exporter": "python",
   "pygments_lexer": "ipython3",
   "version": "3.9.7"
  }
 },
 "nbformat": 4,
 "nbformat_minor": 5
}
