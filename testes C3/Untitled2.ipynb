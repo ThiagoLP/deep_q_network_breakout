{
 "cells": [
  {
   "cell_type": "code",
   "execution_count": 17,
   "id": "6c2bf774",
   "metadata": {},
   "outputs": [
    {
     "name": "stdout",
     "output_type": "stream",
     "text": [
      "Requirement already satisfied: stable-baselines[mpi] in c:\\users\\thiag\\anaconda3\\envs\\new_env\\lib\\site-packages (2.10.2)\n",
      "Requirement already satisfied: cloudpickle>=0.5.5 in c:\\users\\thiag\\anaconda3\\envs\\new_env\\lib\\site-packages (from stable-baselines[mpi]) (2.0.0)\n",
      "Requirement already satisfied: matplotlib in c:\\users\\thiag\\anaconda3\\envs\\new_env\\lib\\site-packages (from stable-baselines[mpi]) (3.5.0)\n",
      "Requirement already satisfied: gym[atari,classic_control]>=0.11 in c:\\users\\thiag\\anaconda3\\envs\\new_env\\lib\\site-packages (from stable-baselines[mpi]) (0.21.0)\n",
      "Requirement already satisfied: scipy in c:\\users\\thiag\\anaconda3\\envs\\new_env\\lib\\site-packages (from stable-baselines[mpi]) (1.7.1)\n",
      "Requirement already satisfied: opencv-python in c:\\users\\thiag\\anaconda3\\envs\\new_env\\lib\\site-packages (from stable-baselines[mpi]) (4.5.4.60)\n",
      "Requirement already satisfied: numpy in c:\\users\\thiag\\anaconda3\\envs\\new_env\\lib\\site-packages (from stable-baselines[mpi]) (1.21.2)\n",
      "Requirement already satisfied: pandas in c:\\users\\thiag\\anaconda3\\envs\\new_env\\lib\\site-packages (from stable-baselines[mpi]) (1.3.4)\n",
      "Requirement already satisfied: joblib in c:\\users\\thiag\\anaconda3\\envs\\new_env\\lib\\site-packages (from stable-baselines[mpi]) (1.1.0)\n",
      "Requirement already satisfied: mpi4py in c:\\users\\thiag\\anaconda3\\envs\\new_env\\lib\\site-packages (from stable-baselines[mpi]) (3.1.3)\n",
      "Requirement already satisfied: pyglet>=1.4.0 in c:\\users\\thiag\\anaconda3\\envs\\new_env\\lib\\site-packages (from gym[atari,classic_control]>=0.11->stable-baselines[mpi]) (1.5.21)\n",
      "Requirement already satisfied: ale-py~=0.7.1 in c:\\users\\thiag\\anaconda3\\envs\\new_env\\lib\\site-packages (from gym[atari,classic_control]>=0.11->stable-baselines[mpi]) (0.7.3)\n",
      "Requirement already satisfied: importlib-resources in c:\\users\\thiag\\anaconda3\\envs\\new_env\\lib\\site-packages (from ale-py~=0.7.1->gym[atari,classic_control]>=0.11->stable-baselines[mpi]) (5.4.0)\n",
      "Requirement already satisfied: zipp>=3.1.0 in c:\\users\\thiag\\anaconda3\\envs\\new_env\\lib\\site-packages (from importlib-resources->ale-py~=0.7.1->gym[atari,classic_control]>=0.11->stable-baselines[mpi]) (3.6.0)\n",
      "Requirement already satisfied: kiwisolver>=1.0.1 in c:\\users\\thiag\\anaconda3\\envs\\new_env\\lib\\site-packages (from matplotlib->stable-baselines[mpi]) (1.3.2)\n",
      "Requirement already satisfied: cycler>=0.10 in c:\\users\\thiag\\anaconda3\\envs\\new_env\\lib\\site-packages (from matplotlib->stable-baselines[mpi]) (0.11.0)\n",
      "Requirement already satisfied: pillow>=6.2.0 in c:\\users\\thiag\\anaconda3\\envs\\new_env\\lib\\site-packages (from matplotlib->stable-baselines[mpi]) (8.4.0)\n",
      "Requirement already satisfied: fonttools>=4.22.0 in c:\\users\\thiag\\anaconda3\\envs\\new_env\\lib\\site-packages (from matplotlib->stable-baselines[mpi]) (4.28.2)\n",
      "Requirement already satisfied: pyparsing>=2.2.1 in c:\\users\\thiag\\anaconda3\\envs\\new_env\\lib\\site-packages (from matplotlib->stable-baselines[mpi]) (3.0.4)\n",
      "Requirement already satisfied: packaging>=20.0 in c:\\users\\thiag\\anaconda3\\envs\\new_env\\lib\\site-packages (from matplotlib->stable-baselines[mpi]) (21.3)\n",
      "Requirement already satisfied: setuptools-scm>=4 in c:\\users\\thiag\\anaconda3\\envs\\new_env\\lib\\site-packages (from matplotlib->stable-baselines[mpi]) (6.3.2)\n",
      "Requirement already satisfied: python-dateutil>=2.7 in c:\\users\\thiag\\anaconda3\\envs\\new_env\\lib\\site-packages (from matplotlib->stable-baselines[mpi]) (2.8.2)\n",
      "Requirement already satisfied: six>=1.5 in c:\\users\\thiag\\anaconda3\\envs\\new_env\\lib\\site-packages (from python-dateutil>=2.7->matplotlib->stable-baselines[mpi]) (1.16.0)\n",
      "Requirement already satisfied: setuptools in c:\\users\\thiag\\anaconda3\\envs\\new_env\\lib\\site-packages (from setuptools-scm>=4->matplotlib->stable-baselines[mpi]) (58.0.4)\n",
      "Requirement already satisfied: tomli>=1.0.0 in c:\\users\\thiag\\anaconda3\\envs\\new_env\\lib\\site-packages (from setuptools-scm>=4->matplotlib->stable-baselines[mpi]) (1.2.2)\n",
      "Requirement already satisfied: pytz>=2017.3 in c:\\users\\thiag\\anaconda3\\envs\\new_env\\lib\\site-packages (from pandas->stable-baselines[mpi]) (2021.3)\n",
      "Note: you may need to restart the kernel to use updated packages.\n"
     ]
    }
   ],
   "source": [
    "pip install stable-baselines[mpi]"
   ]
  },
  {
   "cell_type": "code",
   "execution_count": 18,
   "id": "914913d8",
   "metadata": {},
   "outputs": [],
   "source": [
    "import tensorflow"
   ]
  },
  {
   "cell_type": "code",
   "execution_count": 19,
   "id": "3ab79625",
   "metadata": {},
   "outputs": [
    {
     "name": "stdout",
     "output_type": "stream",
     "text": [
      "2.5.0\n"
     ]
    }
   ],
   "source": [
    "print(tensorflow.__version__)"
   ]
  },
  {
   "cell_type": "code",
   "execution_count": 20,
   "id": "180f751a",
   "metadata": {},
   "outputs": [],
   "source": [
    "import gym"
   ]
  },
  {
   "cell_type": "code",
   "execution_count": 21,
   "id": "b21a8c0b",
   "metadata": {},
   "outputs": [],
   "source": [
    "import numpy as np"
   ]
  },
  {
   "cell_type": "code",
   "execution_count": 22,
   "id": "53ba363a",
   "metadata": {},
   "outputs": [
    {
     "ename": "ModuleNotFoundError",
     "evalue": "No module named 'tensorflow.contrib'",
     "output_type": "error",
     "traceback": [
      "\u001b[1;31m---------------------------------------------------------------------------\u001b[0m",
      "\u001b[1;31mModuleNotFoundError\u001b[0m                       Traceback (most recent call last)",
      "\u001b[1;32m~\\AppData\\Local\\Temp/ipykernel_12772/3794148652.py\u001b[0m in \u001b[0;36m<module>\u001b[1;34m\u001b[0m\n\u001b[1;32m----> 1\u001b[1;33m \u001b[1;32mfrom\u001b[0m \u001b[0mstable_baselines\u001b[0m \u001b[1;32mimport\u001b[0m \u001b[0mDQN\u001b[0m\u001b[1;33m\u001b[0m\u001b[1;33m\u001b[0m\u001b[0m\n\u001b[0m",
      "\u001b[1;32m~\\anaconda3\\envs\\new_env\\lib\\site-packages\\stable_baselines\\__init__.py\u001b[0m in \u001b[0;36m<module>\u001b[1;34m\u001b[0m\n\u001b[0;32m      5\u001b[0m \u001b[1;32mfrom\u001b[0m \u001b[0mstable_baselines\u001b[0m\u001b[1;33m.\u001b[0m\u001b[0macer\u001b[0m \u001b[1;32mimport\u001b[0m \u001b[0mACER\u001b[0m\u001b[1;33m\u001b[0m\u001b[1;33m\u001b[0m\u001b[0m\n\u001b[0;32m      6\u001b[0m \u001b[1;32mfrom\u001b[0m \u001b[0mstable_baselines\u001b[0m\u001b[1;33m.\u001b[0m\u001b[0macktr\u001b[0m \u001b[1;32mimport\u001b[0m \u001b[0mACKTR\u001b[0m\u001b[1;33m\u001b[0m\u001b[1;33m\u001b[0m\u001b[0m\n\u001b[1;32m----> 7\u001b[1;33m \u001b[1;32mfrom\u001b[0m \u001b[0mstable_baselines\u001b[0m\u001b[1;33m.\u001b[0m\u001b[0mdeepq\u001b[0m \u001b[1;32mimport\u001b[0m \u001b[0mDQN\u001b[0m\u001b[1;33m\u001b[0m\u001b[1;33m\u001b[0m\u001b[0m\n\u001b[0m\u001b[0;32m      8\u001b[0m \u001b[1;32mfrom\u001b[0m \u001b[0mstable_baselines\u001b[0m\u001b[1;33m.\u001b[0m\u001b[0mher\u001b[0m \u001b[1;32mimport\u001b[0m \u001b[0mHER\u001b[0m\u001b[1;33m\u001b[0m\u001b[1;33m\u001b[0m\u001b[0m\n\u001b[0;32m      9\u001b[0m \u001b[1;32mfrom\u001b[0m \u001b[0mstable_baselines\u001b[0m\u001b[1;33m.\u001b[0m\u001b[0mppo2\u001b[0m \u001b[1;32mimport\u001b[0m \u001b[0mPPO2\u001b[0m\u001b[1;33m\u001b[0m\u001b[1;33m\u001b[0m\u001b[0m\n",
      "\u001b[1;32m~\\anaconda3\\envs\\new_env\\lib\\site-packages\\stable_baselines\\deepq\\__init__.py\u001b[0m in \u001b[0;36m<module>\u001b[1;34m\u001b[0m\n\u001b[1;32m----> 1\u001b[1;33m \u001b[1;32mfrom\u001b[0m \u001b[0mstable_baselines\u001b[0m\u001b[1;33m.\u001b[0m\u001b[0mdeepq\u001b[0m\u001b[1;33m.\u001b[0m\u001b[0mpolicies\u001b[0m \u001b[1;32mimport\u001b[0m \u001b[0mMlpPolicy\u001b[0m\u001b[1;33m,\u001b[0m \u001b[0mCnnPolicy\u001b[0m\u001b[1;33m,\u001b[0m \u001b[0mLnMlpPolicy\u001b[0m\u001b[1;33m,\u001b[0m \u001b[0mLnCnnPolicy\u001b[0m\u001b[1;33m\u001b[0m\u001b[1;33m\u001b[0m\u001b[0m\n\u001b[0m\u001b[0;32m      2\u001b[0m \u001b[1;32mfrom\u001b[0m \u001b[0mstable_baselines\u001b[0m\u001b[1;33m.\u001b[0m\u001b[0mdeepq\u001b[0m\u001b[1;33m.\u001b[0m\u001b[0mbuild_graph\u001b[0m \u001b[1;32mimport\u001b[0m \u001b[0mbuild_act\u001b[0m\u001b[1;33m,\u001b[0m \u001b[0mbuild_train\u001b[0m  \u001b[1;31m# noqa\u001b[0m\u001b[1;33m\u001b[0m\u001b[1;33m\u001b[0m\u001b[0m\n\u001b[0;32m      3\u001b[0m \u001b[1;32mfrom\u001b[0m \u001b[0mstable_baselines\u001b[0m\u001b[1;33m.\u001b[0m\u001b[0mdeepq\u001b[0m\u001b[1;33m.\u001b[0m\u001b[0mdqn\u001b[0m \u001b[1;32mimport\u001b[0m \u001b[0mDQN\u001b[0m\u001b[1;33m\u001b[0m\u001b[1;33m\u001b[0m\u001b[0m\n\u001b[0;32m      4\u001b[0m \u001b[1;32mfrom\u001b[0m \u001b[0mstable_baselines\u001b[0m\u001b[1;33m.\u001b[0m\u001b[0mcommon\u001b[0m\u001b[1;33m.\u001b[0m\u001b[0mbuffers\u001b[0m \u001b[1;32mimport\u001b[0m \u001b[0mReplayBuffer\u001b[0m\u001b[1;33m,\u001b[0m \u001b[0mPrioritizedReplayBuffer\u001b[0m  \u001b[1;31m# noqa\u001b[0m\u001b[1;33m\u001b[0m\u001b[1;33m\u001b[0m\u001b[0m\n\u001b[0;32m      5\u001b[0m \u001b[1;33m\u001b[0m\u001b[0m\n",
      "\u001b[1;32m~\\anaconda3\\envs\\new_env\\lib\\site-packages\\stable_baselines\\deepq\\policies.py\u001b[0m in \u001b[0;36m<module>\u001b[1;34m\u001b[0m\n\u001b[0;32m      1\u001b[0m \u001b[1;32mimport\u001b[0m \u001b[0mtensorflow\u001b[0m \u001b[1;32mas\u001b[0m \u001b[0mtf\u001b[0m\u001b[1;33m\u001b[0m\u001b[1;33m\u001b[0m\u001b[0m\n\u001b[1;32m----> 2\u001b[1;33m \u001b[1;32mimport\u001b[0m \u001b[0mtensorflow\u001b[0m\u001b[1;33m.\u001b[0m\u001b[0mcontrib\u001b[0m\u001b[1;33m.\u001b[0m\u001b[0mlayers\u001b[0m \u001b[1;32mas\u001b[0m \u001b[0mtf_layers\u001b[0m\u001b[1;33m\u001b[0m\u001b[1;33m\u001b[0m\u001b[0m\n\u001b[0m\u001b[0;32m      3\u001b[0m \u001b[1;32mimport\u001b[0m \u001b[0mnumpy\u001b[0m \u001b[1;32mas\u001b[0m \u001b[0mnp\u001b[0m\u001b[1;33m\u001b[0m\u001b[1;33m\u001b[0m\u001b[0m\n\u001b[0;32m      4\u001b[0m \u001b[1;32mfrom\u001b[0m \u001b[0mgym\u001b[0m\u001b[1;33m.\u001b[0m\u001b[0mspaces\u001b[0m \u001b[1;32mimport\u001b[0m \u001b[0mDiscrete\u001b[0m\u001b[1;33m\u001b[0m\u001b[1;33m\u001b[0m\u001b[0m\n\u001b[0;32m      5\u001b[0m \u001b[1;33m\u001b[0m\u001b[0m\n",
      "\u001b[1;31mModuleNotFoundError\u001b[0m: No module named 'tensorflow.contrib'"
     ]
    }
   ],
   "source": [
    "from stable_baselines import DQN"
   ]
  },
  {
   "cell_type": "code",
   "execution_count": null,
   "id": "aa6b84c5",
   "metadata": {},
   "outputs": [],
   "source": []
  }
 ],
 "metadata": {
  "kernelspec": {
   "display_name": "Python 3 (ipykernel)",
   "language": "python",
   "name": "python3"
  },
  "language_info": {
   "codemirror_mode": {
    "name": "ipython",
    "version": 3
   },
   "file_extension": ".py",
   "mimetype": "text/x-python",
   "name": "python",
   "nbconvert_exporter": "python",
   "pygments_lexer": "ipython3",
   "version": "3.9.7"
  }
 },
 "nbformat": 4,
 "nbformat_minor": 5
}
