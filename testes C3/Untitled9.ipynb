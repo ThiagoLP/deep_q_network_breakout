{
 "cells": [
  {
   "cell_type": "code",
   "execution_count": 10,
   "id": "8414f409",
   "metadata": {
    "scrolled": true
   },
   "outputs": [
    {
     "name": "stdout",
     "output_type": "stream",
     "text": [
      "Requirement already satisfied: tensorflow in c:\\users\\thiag\\anaconda3\\envs\\new_env\\lib\\site-packages (2.5.0)\n",
      "Requirement already satisfied: typing-extensions>=3.7.4 in c:\\users\\thiag\\anaconda3\\envs\\new_env\\lib\\site-packages (from tensorflow) (3.10.0.2)\n",
      "Requirement already satisfied: numpy>=1.19 in c:\\users\\thiag\\anaconda3\\envs\\new_env\\lib\\site-packages (from tensorflow) (1.21.2)\n",
      "Requirement already satisfied: wheel>=0.35 in c:\\users\\thiag\\anaconda3\\envs\\new_env\\lib\\site-packages (from tensorflow) (0.35.1)\n",
      "Requirement already satisfied: keras-preprocessing>=1.1.2 in c:\\users\\thiag\\anaconda3\\envs\\new_env\\lib\\site-packages (from tensorflow) (1.1.2)\n",
      "Requirement already satisfied: termcolor>=1.1.0 in c:\\users\\thiag\\anaconda3\\envs\\new_env\\lib\\site-packages (from tensorflow) (1.1.0)\n",
      "Requirement already satisfied: tensorflow-estimator<2.6.0,>=2.5.0rc0 in c:\\users\\thiag\\anaconda3\\envs\\new_env\\lib\\site-packages (from tensorflow) (2.5.0)\n",
      "Requirement already satisfied: six>=1.15.0 in c:\\users\\thiag\\anaconda3\\envs\\new_env\\lib\\site-packages (from tensorflow) (1.16.0)\n",
      "Requirement already satisfied: flatbuffers~=1.12 in c:\\users\\thiag\\anaconda3\\envs\\new_env\\lib\\site-packages (from tensorflow) (1.12)\n",
      "Requirement already satisfied: google-pasta~=0.2 in c:\\users\\thiag\\anaconda3\\envs\\new_env\\lib\\site-packages (from tensorflow) (0.2.0)\n",
      "Requirement already satisfied: protobuf>=3.9.2 in c:\\users\\thiag\\anaconda3\\envs\\new_env\\lib\\site-packages (from tensorflow) (3.14.0)\n",
      "Requirement already satisfied: wrapt>=1.11.2 in c:\\users\\thiag\\anaconda3\\envs\\new_env\\lib\\site-packages (from tensorflow) (1.12.1)\n",
      "Requirement already satisfied: absl-py~=0.10 in c:\\users\\thiag\\anaconda3\\envs\\new_env\\lib\\site-packages (from tensorflow) (0.13.0)\n",
      "Requirement already satisfied: astunparse~=1.6.3 in c:\\users\\thiag\\anaconda3\\envs\\new_env\\lib\\site-packages (from tensorflow) (1.6.3)\n",
      "Requirement already satisfied: h5py>=3.1.0 in c:\\users\\thiag\\anaconda3\\envs\\new_env\\lib\\site-packages (from tensorflow) (3.6.0)\n",
      "Requirement already satisfied: tensorboard~=2.5 in c:\\users\\thiag\\anaconda3\\envs\\new_env\\lib\\site-packages (from tensorflow) (2.5.0)\n",
      "Requirement already satisfied: gast==0.4.0 in c:\\users\\thiag\\anaconda3\\envs\\new_env\\lib\\site-packages (from tensorflow) (0.4.0)\n",
      "Requirement already satisfied: keras>=2.4.0 in c:\\users\\thiag\\anaconda3\\envs\\new_env\\lib\\site-packages (from tensorflow) (2.4.3)\n",
      "Requirement already satisfied: opt-einsum~=3.3.0 in c:\\users\\thiag\\anaconda3\\envs\\new_env\\lib\\site-packages (from tensorflow) (3.3.0)\n",
      "Requirement already satisfied: grpcio~=1.34.0 in c:\\users\\thiag\\anaconda3\\envs\\new_env\\lib\\site-packages (from tensorflow) (1.34.1)\n",
      "Requirement already satisfied: scipy>=0.14 in c:\\users\\thiag\\anaconda3\\envs\\new_env\\lib\\site-packages (from keras>=2.4.0->tensorflow) (1.7.1)\n",
      "Requirement already satisfied: pyyaml in c:\\users\\thiag\\anaconda3\\envs\\new_env\\lib\\site-packages (from keras>=2.4.0->tensorflow) (6.0)\n",
      "Requirement already satisfied: werkzeug>=0.11.15 in c:\\users\\thiag\\anaconda3\\envs\\new_env\\lib\\site-packages (from tensorboard~=2.5->tensorflow) (2.0.2)\n",
      "Requirement already satisfied: requests<3,>=2.21.0 in c:\\users\\thiag\\anaconda3\\envs\\new_env\\lib\\site-packages (from tensorboard~=2.5->tensorflow) (2.26.0)\n",
      "Requirement already satisfied: markdown>=2.6.8 in c:\\users\\thiag\\anaconda3\\envs\\new_env\\lib\\site-packages (from tensorboard~=2.5->tensorflow) (3.3.4)\n",
      "Requirement already satisfied: tensorboard-data-server<0.7.0,>=0.6.0 in c:\\users\\thiag\\anaconda3\\envs\\new_env\\lib\\site-packages (from tensorboard~=2.5->tensorflow) (0.6.1)\n",
      "Requirement already satisfied: tensorboard-plugin-wit>=1.6.0 in c:\\users\\thiag\\anaconda3\\envs\\new_env\\lib\\site-packages (from tensorboard~=2.5->tensorflow) (1.6.0)\n",
      "Requirement already satisfied: google-auth-oauthlib<0.5,>=0.4.1 in c:\\users\\thiag\\anaconda3\\envs\\new_env\\lib\\site-packages (from tensorboard~=2.5->tensorflow) (0.4.1)\n",
      "Requirement already satisfied: setuptools>=41.0.0 in c:\\users\\thiag\\anaconda3\\envs\\new_env\\lib\\site-packages (from tensorboard~=2.5->tensorflow) (58.0.4)\n",
      "Requirement already satisfied: google-auth<2,>=1.6.3 in c:\\users\\thiag\\anaconda3\\envs\\new_env\\lib\\site-packages (from tensorboard~=2.5->tensorflow) (1.33.0)\n",
      "Requirement already satisfied: pyasn1-modules>=0.2.1 in c:\\users\\thiag\\anaconda3\\envs\\new_env\\lib\\site-packages (from google-auth<2,>=1.6.3->tensorboard~=2.5->tensorflow) (0.2.8)\n",
      "Requirement already satisfied: rsa<5,>=3.1.4 in c:\\users\\thiag\\anaconda3\\envs\\new_env\\lib\\site-packages (from google-auth<2,>=1.6.3->tensorboard~=2.5->tensorflow) (4.7.2)\n",
      "Requirement already satisfied: cachetools<5.0,>=2.0.0 in c:\\users\\thiag\\anaconda3\\envs\\new_env\\lib\\site-packages (from google-auth<2,>=1.6.3->tensorboard~=2.5->tensorflow) (4.2.2)\n",
      "Requirement already satisfied: requests-oauthlib>=0.7.0 in c:\\users\\thiag\\anaconda3\\envs\\new_env\\lib\\site-packages (from google-auth-oauthlib<0.5,>=0.4.1->tensorboard~=2.5->tensorflow) (1.3.0)\n",
      "Requirement already satisfied: pyasn1<0.5.0,>=0.4.6 in c:\\users\\thiag\\anaconda3\\envs\\new_env\\lib\\site-packages (from pyasn1-modules>=0.2.1->google-auth<2,>=1.6.3->tensorboard~=2.5->tensorflow) (0.4.8)\n",
      "Requirement already satisfied: charset-normalizer~=2.0.0 in c:\\users\\thiag\\anaconda3\\envs\\new_env\\lib\\site-packages (from requests<3,>=2.21.0->tensorboard~=2.5->tensorflow) (2.0.4)\n",
      "Requirement already satisfied: certifi>=2017.4.17 in c:\\users\\thiag\\anaconda3\\envs\\new_env\\lib\\site-packages (from requests<3,>=2.21.0->tensorboard~=2.5->tensorflow) (2021.10.8)\n",
      "Requirement already satisfied: urllib3<1.27,>=1.21.1 in c:\\users\\thiag\\anaconda3\\envs\\new_env\\lib\\site-packages (from requests<3,>=2.21.0->tensorboard~=2.5->tensorflow) (1.26.7)\n",
      "Requirement already satisfied: idna<4,>=2.5 in c:\\users\\thiag\\anaconda3\\envs\\new_env\\lib\\site-packages (from requests<3,>=2.21.0->tensorboard~=2.5->tensorflow) (3.2)\n",
      "Requirement already satisfied: oauthlib>=3.0.0 in c:\\users\\thiag\\anaconda3\\envs\\new_env\\lib\\site-packages (from requests-oauthlib>=0.7.0->google-auth-oauthlib<0.5,>=0.4.1->tensorboard~=2.5->tensorflow) (3.1.1)\n",
      "Requirement already satisfied: gym in c:\\users\\thiag\\anaconda3\\envs\\new_env\\lib\\site-packages (0.21.0)\n",
      "Requirement already satisfied: cloudpickle>=1.2.0 in c:\\users\\thiag\\anaconda3\\envs\\new_env\\lib\\site-packages (from gym) (2.0.0)\n",
      "Requirement already satisfied: numpy>=1.18.0 in c:\\users\\thiag\\anaconda3\\envs\\new_env\\lib\\site-packages (from gym) (1.21.2)\n",
      "Requirement already satisfied: keras in c:\\users\\thiag\\anaconda3\\envs\\new_env\\lib\\site-packages (2.4.3)\n",
      "Requirement already satisfied: scipy>=0.14 in c:\\users\\thiag\\anaconda3\\envs\\new_env\\lib\\site-packages (from keras) (1.7.1)\n",
      "Requirement already satisfied: pyyaml in c:\\users\\thiag\\anaconda3\\envs\\new_env\\lib\\site-packages (from keras) (6.0)\n",
      "Requirement already satisfied: numpy>=1.9.1 in c:\\users\\thiag\\anaconda3\\envs\\new_env\\lib\\site-packages (from keras) (1.21.2)\n",
      "Requirement already satisfied: h5py in c:\\users\\thiag\\anaconda3\\envs\\new_env\\lib\\site-packages (from keras) (3.6.0)\n",
      "Requirement already satisfied: keras-rl2 in c:\\users\\thiag\\anaconda3\\envs\\new_env\\lib\\site-packages (1.0.5)\n",
      "Requirement already satisfied: tensorflow in c:\\users\\thiag\\anaconda3\\envs\\new_env\\lib\\site-packages (from keras-rl2) (2.5.0)\n",
      "Requirement already satisfied: grpcio~=1.34.0 in c:\\users\\thiag\\anaconda3\\envs\\new_env\\lib\\site-packages (from tensorflow->keras-rl2) (1.34.1)\n",
      "Requirement already satisfied: six>=1.15.0 in c:\\users\\thiag\\anaconda3\\envs\\new_env\\lib\\site-packages (from tensorflow->keras-rl2) (1.16.0)\n",
      "Requirement already satisfied: absl-py~=0.10 in c:\\users\\thiag\\anaconda3\\envs\\new_env\\lib\\site-packages (from tensorflow->keras-rl2) (0.13.0)\n",
      "Requirement already satisfied: opt-einsum~=3.3.0 in c:\\users\\thiag\\anaconda3\\envs\\new_env\\lib\\site-packages (from tensorflow->keras-rl2) (3.3.0)\n",
      "Requirement already satisfied: typing-extensions>=3.7.4 in c:\\users\\thiag\\anaconda3\\envs\\new_env\\lib\\site-packages (from tensorflow->keras-rl2) (3.10.0.2)\n",
      "Requirement already satisfied: astunparse~=1.6.3 in c:\\users\\thiag\\anaconda3\\envs\\new_env\\lib\\site-packages (from tensorflow->keras-rl2) (1.6.3)\n",
      "Requirement already satisfied: termcolor>=1.1.0 in c:\\users\\thiag\\anaconda3\\envs\\new_env\\lib\\site-packages (from tensorflow->keras-rl2) (1.1.0)\n",
      "Requirement already satisfied: google-pasta~=0.2 in c:\\users\\thiag\\anaconda3\\envs\\new_env\\lib\\site-packages (from tensorflow->keras-rl2) (0.2.0)\n",
      "Requirement already satisfied: wheel>=0.35 in c:\\users\\thiag\\anaconda3\\envs\\new_env\\lib\\site-packages (from tensorflow->keras-rl2) (0.35.1)\n",
      "Requirement already satisfied: flatbuffers~=1.12 in c:\\users\\thiag\\anaconda3\\envs\\new_env\\lib\\site-packages (from tensorflow->keras-rl2) (1.12)\n",
      "Requirement already satisfied: h5py>=3.1.0 in c:\\users\\thiag\\anaconda3\\envs\\new_env\\lib\\site-packages (from tensorflow->keras-rl2) (3.6.0)\n",
      "Requirement already satisfied: wrapt>=1.11.2 in c:\\users\\thiag\\anaconda3\\envs\\new_env\\lib\\site-packages (from tensorflow->keras-rl2) (1.12.1)\n",
      "Requirement already satisfied: protobuf>=3.9.2 in c:\\users\\thiag\\anaconda3\\envs\\new_env\\lib\\site-packages (from tensorflow->keras-rl2) (3.14.0)\n",
      "Requirement already satisfied: tensorboard~=2.5 in c:\\users\\thiag\\anaconda3\\envs\\new_env\\lib\\site-packages (from tensorflow->keras-rl2) (2.5.0)\n",
      "Requirement already satisfied: keras>=2.4.0 in c:\\users\\thiag\\anaconda3\\envs\\new_env\\lib\\site-packages (from tensorflow->keras-rl2) (2.4.3)\n",
      "Requirement already satisfied: tensorflow-estimator<2.6.0,>=2.5.0rc0 in c:\\users\\thiag\\anaconda3\\envs\\new_env\\lib\\site-packages (from tensorflow->keras-rl2) (2.5.0)\n",
      "Requirement already satisfied: gast==0.4.0 in c:\\users\\thiag\\anaconda3\\envs\\new_env\\lib\\site-packages (from tensorflow->keras-rl2) (0.4.0)\n",
      "Requirement already satisfied: keras-preprocessing>=1.1.2 in c:\\users\\thiag\\anaconda3\\envs\\new_env\\lib\\site-packages (from tensorflow->keras-rl2) (1.1.2)\n",
      "Requirement already satisfied: numpy>=1.19 in c:\\users\\thiag\\anaconda3\\envs\\new_env\\lib\\site-packages (from tensorflow->keras-rl2) (1.21.2)\n",
      "Requirement already satisfied: scipy>=0.14 in c:\\users\\thiag\\anaconda3\\envs\\new_env\\lib\\site-packages (from keras>=2.4.0->tensorflow->keras-rl2) (1.7.1)\n",
      "Requirement already satisfied: pyyaml in c:\\users\\thiag\\anaconda3\\envs\\new_env\\lib\\site-packages (from keras>=2.4.0->tensorflow->keras-rl2) (6.0)\n",
      "Requirement already satisfied: google-auth-oauthlib<0.5,>=0.4.1 in c:\\users\\thiag\\anaconda3\\envs\\new_env\\lib\\site-packages (from tensorboard~=2.5->tensorflow->keras-rl2) (0.4.1)\n",
      "Requirement already satisfied: werkzeug>=0.11.15 in c:\\users\\thiag\\anaconda3\\envs\\new_env\\lib\\site-packages (from tensorboard~=2.5->tensorflow->keras-rl2) (2.0.2)\n",
      "Requirement already satisfied: requests<3,>=2.21.0 in c:\\users\\thiag\\anaconda3\\envs\\new_env\\lib\\site-packages (from tensorboard~=2.5->tensorflow->keras-rl2) (2.26.0)\n",
      "Requirement already satisfied: google-auth<2,>=1.6.3 in c:\\users\\thiag\\anaconda3\\envs\\new_env\\lib\\site-packages (from tensorboard~=2.5->tensorflow->keras-rl2) (1.33.0)\n",
      "Requirement already satisfied: tensorboard-plugin-wit>=1.6.0 in c:\\users\\thiag\\anaconda3\\envs\\new_env\\lib\\site-packages (from tensorboard~=2.5->tensorflow->keras-rl2) (1.6.0)\n",
      "Requirement already satisfied: markdown>=2.6.8 in c:\\users\\thiag\\anaconda3\\envs\\new_env\\lib\\site-packages (from tensorboard~=2.5->tensorflow->keras-rl2) (3.3.4)\n",
      "Requirement already satisfied: setuptools>=41.0.0 in c:\\users\\thiag\\anaconda3\\envs\\new_env\\lib\\site-packages (from tensorboard~=2.5->tensorflow->keras-rl2) (58.0.4)\n",
      "Requirement already satisfied: tensorboard-data-server<0.7.0,>=0.6.0 in c:\\users\\thiag\\anaconda3\\envs\\new_env\\lib\\site-packages (from tensorboard~=2.5->tensorflow->keras-rl2) (0.6.1)\n",
      "Requirement already satisfied: cachetools<5.0,>=2.0.0 in c:\\users\\thiag\\anaconda3\\envs\\new_env\\lib\\site-packages (from google-auth<2,>=1.6.3->tensorboard~=2.5->tensorflow->keras-rl2) (4.2.2)\n",
      "Requirement already satisfied: pyasn1-modules>=0.2.1 in c:\\users\\thiag\\anaconda3\\envs\\new_env\\lib\\site-packages (from google-auth<2,>=1.6.3->tensorboard~=2.5->tensorflow->keras-rl2) (0.2.8)\n",
      "Requirement already satisfied: rsa<5,>=3.1.4 in c:\\users\\thiag\\anaconda3\\envs\\new_env\\lib\\site-packages (from google-auth<2,>=1.6.3->tensorboard~=2.5->tensorflow->keras-rl2) (4.7.2)\n",
      "Requirement already satisfied: requests-oauthlib>=0.7.0 in c:\\users\\thiag\\anaconda3\\envs\\new_env\\lib\\site-packages (from google-auth-oauthlib<0.5,>=0.4.1->tensorboard~=2.5->tensorflow->keras-rl2) (1.3.0)\n",
      "Requirement already satisfied: pyasn1<0.5.0,>=0.4.6 in c:\\users\\thiag\\anaconda3\\envs\\new_env\\lib\\site-packages (from pyasn1-modules>=0.2.1->google-auth<2,>=1.6.3->tensorboard~=2.5->tensorflow->keras-rl2) (0.4.8)\n",
      "Requirement already satisfied: urllib3<1.27,>=1.21.1 in c:\\users\\thiag\\anaconda3\\envs\\new_env\\lib\\site-packages (from requests<3,>=2.21.0->tensorboard~=2.5->tensorflow->keras-rl2) (1.26.7)\n",
      "Requirement already satisfied: idna<4,>=2.5 in c:\\users\\thiag\\anaconda3\\envs\\new_env\\lib\\site-packages (from requests<3,>=2.21.0->tensorboard~=2.5->tensorflow->keras-rl2) (3.2)\n",
      "Requirement already satisfied: charset-normalizer~=2.0.0 in c:\\users\\thiag\\anaconda3\\envs\\new_env\\lib\\site-packages (from requests<3,>=2.21.0->tensorboard~=2.5->tensorflow->keras-rl2) (2.0.4)\n",
      "Requirement already satisfied: certifi>=2017.4.17 in c:\\users\\thiag\\anaconda3\\envs\\new_env\\lib\\site-packages (from requests<3,>=2.21.0->tensorboard~=2.5->tensorflow->keras-rl2) (2021.10.8)\n",
      "Requirement already satisfied: oauthlib>=3.0.0 in c:\\users\\thiag\\anaconda3\\envs\\new_env\\lib\\site-packages (from requests-oauthlib>=0.7.0->google-auth-oauthlib<0.5,>=0.4.1->tensorboard~=2.5->tensorflow->keras-rl2) (3.1.1)\n"
     ]
    }
   ],
   "source": [
    "!pip install tensorflow\n",
    "!pip install gym\n",
    "!pip install keras\n",
    "!pip install keras-rl2"
   ]
  },
  {
   "cell_type": "code",
   "execution_count": 11,
   "id": "3c3f2226",
   "metadata": {},
   "outputs": [],
   "source": [
    "from gym import Env\n",
    "from gym.spaces import Discrete, Box\n",
    "import numpy as np\n",
    "import random"
   ]
  },
  {
   "cell_type": "code",
   "execution_count": 12,
   "id": "e331376f",
   "metadata": {},
   "outputs": [],
   "source": [
    "class ShowerEnv(Env):\n",
    "    def __init__(self):\n",
    "        # Actions we can take, down, stay, up\n",
    "        self.action_space = Discrete(3)\n",
    "        # Temperature array\n",
    "        self.observation_space = Box(low=np.array([0]), high=np.array([100]))\n",
    "        # Set start temp\n",
    "        self.state = 38 + random.randint(-3,3)\n",
    "        # Set shower length\n",
    "        self.shower_length = 60\n",
    "        \n",
    "    def step(self, action):\n",
    "        # Apply action\n",
    "        # 0 -1 = -1 temperature\n",
    "        # 1 -1 = 0 \n",
    "        # 2 -1 = 1 temperature \n",
    "        self.state += action -1 \n",
    "        # Reduce shower length by 1 second\n",
    "        self.shower_length -= 1 \n",
    "        \n",
    "        # Calculate reward\n",
    "        if self.state >=37 and self.state <=39: \n",
    "            reward =1 \n",
    "        else: \n",
    "            reward = -1 \n",
    "        \n",
    "        # Check if shower is done\n",
    "        if self.shower_length <= 0: \n",
    "            done = True\n",
    "        else:\n",
    "            done = False\n",
    "        \n",
    "        # Apply temperature noise\n",
    "        #self.state += random.randint(-1,1)\n",
    "        # Set placeholder for info\n",
    "        info = {}\n",
    "        \n",
    "        # Return step information\n",
    "        return self.state, reward, done, info\n",
    "\n",
    "    def render(self):\n",
    "        # Implement viz\n",
    "        pass\n",
    "    \n",
    "    def reset(self):\n",
    "        # Reset shower temperature\n",
    "        self.state = 38 + random.randint(-3,3)\n",
    "        # Reset shower time\n",
    "        self.shower_length = 60 \n",
    "        return self.state"
   ]
  },
  {
   "cell_type": "code",
   "execution_count": 13,
   "id": "54641736",
   "metadata": {},
   "outputs": [
    {
     "name": "stderr",
     "output_type": "stream",
     "text": [
      "C:\\Users\\thiag\\anaconda3\\envs\\new_env\\lib\\site-packages\\gym\\spaces\\box.py:73: UserWarning: \u001b[33mWARN: Box bound precision lowered by casting to float32\u001b[0m\n",
      "  logger.warn(\n"
     ]
    }
   ],
   "source": [
    "env = ShowerEnv()"
   ]
  },
  {
   "cell_type": "code",
   "execution_count": 14,
   "id": "273556f6",
   "metadata": {},
   "outputs": [
    {
     "data": {
      "text/plain": [
       "array([67.406006], dtype=float32)"
      ]
     },
     "execution_count": 14,
     "metadata": {},
     "output_type": "execute_result"
    }
   ],
   "source": [
    "env.observation_space.sample()"
   ]
  },
  {
   "cell_type": "code",
   "execution_count": 15,
   "id": "a0acfbf8",
   "metadata": {},
   "outputs": [
    {
     "name": "stdout",
     "output_type": "stream",
     "text": [
      "Episode:1 Score:-46\n",
      "Episode:2 Score:12\n",
      "Episode:3 Score:-60\n",
      "Episode:4 Score:-34\n",
      "Episode:5 Score:-60\n",
      "Episode:6 Score:-38\n",
      "Episode:7 Score:-56\n",
      "Episode:8 Score:-38\n",
      "Episode:9 Score:-2\n",
      "Episode:10 Score:-44\n"
     ]
    }
   ],
   "source": [
    "episodes = 10\n",
    "for episode in range(1, episodes+1):\n",
    "    state = env.reset()\n",
    "    done = False\n",
    "    score = 0 \n",
    "    \n",
    "    while not done:\n",
    "        #env.render()\n",
    "        action = env.action_space.sample()\n",
    "        n_state, reward, done, info = env.step(action)\n",
    "        score+=reward\n",
    "    print('Episode:{} Score:{}'.format(episode, score))"
   ]
  },
  {
   "cell_type": "code",
   "execution_count": 16,
   "id": "43487a91",
   "metadata": {},
   "outputs": [],
   "source": [
    "import numpy as np\n",
    "from tensorflow.keras.models import Sequential\n",
    "from tensorflow.keras.layers import Dense, Flatten\n",
    "from tensorflow.keras.optimizers import Adam"
   ]
  },
  {
   "cell_type": "code",
   "execution_count": 17,
   "id": "dce9785e",
   "metadata": {},
   "outputs": [],
   "source": [
    "states = env.observation_space.shape\n",
    "actions = env.action_space.n"
   ]
  },
  {
   "cell_type": "code",
   "execution_count": 18,
   "id": "994dacf7",
   "metadata": {},
   "outputs": [
    {
     "data": {
      "text/plain": [
       "3"
      ]
     },
     "execution_count": 18,
     "metadata": {},
     "output_type": "execute_result"
    }
   ],
   "source": [
    "actions"
   ]
  },
  {
   "cell_type": "code",
   "execution_count": 19,
   "id": "90b48f77",
   "metadata": {},
   "outputs": [],
   "source": [
    "def build_model(states, actions):\n",
    "    model = Sequential()    \n",
    "    model.add(Dense(24, activation='relu', input_shape=states))\n",
    "    model.add(Dense(24, activation='relu'))\n",
    "    model.add(Dense(actions, activation='linear'))\n",
    "    return model"
   ]
  },
  {
   "cell_type": "code",
   "execution_count": 28,
   "id": "99e45c3e",
   "metadata": {},
   "outputs": [],
   "source": [
    "del model "
   ]
  },
  {
   "cell_type": "code",
   "execution_count": 29,
   "id": "159d8a2b",
   "metadata": {},
   "outputs": [],
   "source": [
    "model = build_model(states, actions)"
   ]
  },
  {
   "cell_type": "code",
   "execution_count": 30,
   "id": "c649a951",
   "metadata": {},
   "outputs": [
    {
     "name": "stdout",
     "output_type": "stream",
     "text": [
      "Model: \"sequential_1\"\n",
      "_________________________________________________________________\n",
      "Layer (type)                 Output Shape              Param #   \n",
      "=================================================================\n",
      "dense_3 (Dense)              (None, 24)                48        \n",
      "_________________________________________________________________\n",
      "dense_4 (Dense)              (None, 24)                600       \n",
      "_________________________________________________________________\n",
      "dense_5 (Dense)              (None, 3)                 75        \n",
      "=================================================================\n",
      "Total params: 723\n",
      "Trainable params: 723\n",
      "Non-trainable params: 0\n",
      "_________________________________________________________________\n"
     ]
    }
   ],
   "source": [
    "model.summary()"
   ]
  },
  {
   "cell_type": "code",
   "execution_count": 23,
   "id": "5cb4d09c",
   "metadata": {},
   "outputs": [],
   "source": [
    "from rl.agents import DQNAgent\n",
    "from rl.policy import BoltzmannQPolicy\n",
    "from rl.memory import SequentialMemory"
   ]
  },
  {
   "cell_type": "code",
   "execution_count": 24,
   "id": "d5031962",
   "metadata": {},
   "outputs": [],
   "source": [
    "def build_agent(model, actions):\n",
    "    policy = BoltzmannQPolicy()\n",
    "    memory = SequentialMemory(limit=50000, window_length=1)\n",
    "    dqn = DQNAgent(model=model, memory=memory, policy=policy, \n",
    "                  nb_actions=actions, nb_steps_warmup=10, target_model_update=1e-2)\n",
    "    return dqn"
   ]
  },
  {
   "cell_type": "code",
   "execution_count": 31,
   "id": "122aad36",
   "metadata": {},
   "outputs": [],
   "source": [
    "env = gym.make('CartPole-v0')\n",
    "states = env.observation_space.shape[0]\n",
    "actions = env.action_space.n"
   ]
  },
  {
   "cell_type": "code",
   "execution_count": 32,
   "id": "132ff1d1",
   "metadata": {},
   "outputs": [
    {
     "ename": "ValueError",
     "evalue": "Model output \"Tensor(\"dense_5/BiasAdd:0\", shape=(None, 3), dtype=float32)\" has invalid shape. DQN expects a model that has one dimension for each action, in this case 2.",
     "output_type": "error",
     "traceback": [
      "\u001b[1;31m---------------------------------------------------------------------------\u001b[0m",
      "\u001b[1;31mValueError\u001b[0m                                Traceback (most recent call last)",
      "\u001b[1;32m~\\AppData\\Local\\Temp/ipykernel_6424/2623574605.py\u001b[0m in \u001b[0;36m<module>\u001b[1;34m\u001b[0m\n\u001b[1;32m----> 1\u001b[1;33m \u001b[0mdqn\u001b[0m \u001b[1;33m=\u001b[0m \u001b[0mbuild_agent\u001b[0m\u001b[1;33m(\u001b[0m\u001b[0mmodel\u001b[0m\u001b[1;33m,\u001b[0m \u001b[0mactions\u001b[0m\u001b[1;33m)\u001b[0m\u001b[1;33m\u001b[0m\u001b[1;33m\u001b[0m\u001b[0m\n\u001b[0m\u001b[0;32m      2\u001b[0m \u001b[0mdqn\u001b[0m\u001b[1;33m.\u001b[0m\u001b[0mcompile\u001b[0m\u001b[1;33m(\u001b[0m\u001b[0mAdam\u001b[0m\u001b[1;33m(\u001b[0m\u001b[0mlr\u001b[0m\u001b[1;33m=\u001b[0m\u001b[1;36m1e-3\u001b[0m\u001b[1;33m)\u001b[0m\u001b[1;33m,\u001b[0m \u001b[0mmetrics\u001b[0m\u001b[1;33m=\u001b[0m\u001b[1;33m[\u001b[0m\u001b[1;34m'mae'\u001b[0m\u001b[1;33m]\u001b[0m\u001b[1;33m)\u001b[0m\u001b[1;33m\u001b[0m\u001b[1;33m\u001b[0m\u001b[0m\n\u001b[0;32m      3\u001b[0m \u001b[0mdqn\u001b[0m\u001b[1;33m.\u001b[0m\u001b[0mfit\u001b[0m\u001b[1;33m(\u001b[0m\u001b[0menv\u001b[0m\u001b[1;33m,\u001b[0m \u001b[0mnb_steps\u001b[0m\u001b[1;33m=\u001b[0m\u001b[1;36m50000\u001b[0m\u001b[1;33m,\u001b[0m \u001b[0mvisualize\u001b[0m\u001b[1;33m=\u001b[0m\u001b[1;32mFalse\u001b[0m\u001b[1;33m,\u001b[0m \u001b[0mverbose\u001b[0m\u001b[1;33m=\u001b[0m\u001b[1;36m1\u001b[0m\u001b[1;33m)\u001b[0m\u001b[1;33m\u001b[0m\u001b[1;33m\u001b[0m\u001b[0m\n",
      "\u001b[1;32m~\\AppData\\Local\\Temp/ipykernel_6424/1200037726.py\u001b[0m in \u001b[0;36mbuild_agent\u001b[1;34m(model, actions)\u001b[0m\n\u001b[0;32m      2\u001b[0m     \u001b[0mpolicy\u001b[0m \u001b[1;33m=\u001b[0m \u001b[0mBoltzmannQPolicy\u001b[0m\u001b[1;33m(\u001b[0m\u001b[1;33m)\u001b[0m\u001b[1;33m\u001b[0m\u001b[1;33m\u001b[0m\u001b[0m\n\u001b[0;32m      3\u001b[0m     \u001b[0mmemory\u001b[0m \u001b[1;33m=\u001b[0m \u001b[0mSequentialMemory\u001b[0m\u001b[1;33m(\u001b[0m\u001b[0mlimit\u001b[0m\u001b[1;33m=\u001b[0m\u001b[1;36m50000\u001b[0m\u001b[1;33m,\u001b[0m \u001b[0mwindow_length\u001b[0m\u001b[1;33m=\u001b[0m\u001b[1;36m1\u001b[0m\u001b[1;33m)\u001b[0m\u001b[1;33m\u001b[0m\u001b[1;33m\u001b[0m\u001b[0m\n\u001b[1;32m----> 4\u001b[1;33m     dqn = DQNAgent(model=model, memory=memory, policy=policy, \n\u001b[0m\u001b[0;32m      5\u001b[0m                   nb_actions=actions, nb_steps_warmup=10, target_model_update=1e-2)\n\u001b[0;32m      6\u001b[0m     \u001b[1;32mreturn\u001b[0m \u001b[0mdqn\u001b[0m\u001b[1;33m\u001b[0m\u001b[1;33m\u001b[0m\u001b[0m\n",
      "\u001b[1;32m~\\anaconda3\\envs\\new_env\\lib\\site-packages\\rl\\agents\\dqn.py\u001b[0m in \u001b[0;36m__init__\u001b[1;34m(self, model, policy, test_policy, enable_double_dqn, enable_dueling_network, dueling_type, *args, **kwargs)\u001b[0m\n\u001b[0;32m    105\u001b[0m         \u001b[1;31m# Validate (important) input.\u001b[0m\u001b[1;33m\u001b[0m\u001b[1;33m\u001b[0m\u001b[0m\n\u001b[0;32m    106\u001b[0m         \u001b[1;32mif\u001b[0m \u001b[0mlist\u001b[0m\u001b[1;33m(\u001b[0m\u001b[0mmodel\u001b[0m\u001b[1;33m.\u001b[0m\u001b[0moutput\u001b[0m\u001b[1;33m.\u001b[0m\u001b[0mshape\u001b[0m\u001b[1;33m)\u001b[0m \u001b[1;33m!=\u001b[0m \u001b[0mlist\u001b[0m\u001b[1;33m(\u001b[0m\u001b[1;33m(\u001b[0m\u001b[1;32mNone\u001b[0m\u001b[1;33m,\u001b[0m \u001b[0mself\u001b[0m\u001b[1;33m.\u001b[0m\u001b[0mnb_actions\u001b[0m\u001b[1;33m)\u001b[0m\u001b[1;33m)\u001b[0m\u001b[1;33m:\u001b[0m\u001b[1;33m\u001b[0m\u001b[1;33m\u001b[0m\u001b[0m\n\u001b[1;32m--> 107\u001b[1;33m             \u001b[1;32mraise\u001b[0m \u001b[0mValueError\u001b[0m\u001b[1;33m(\u001b[0m\u001b[1;34mf'Model output \"{model.output}\" has invalid shape. DQN expects a model that has one dimension for each action, in this case {self.nb_actions}.'\u001b[0m\u001b[1;33m)\u001b[0m\u001b[1;33m\u001b[0m\u001b[1;33m\u001b[0m\u001b[0m\n\u001b[0m\u001b[0;32m    108\u001b[0m \u001b[1;33m\u001b[0m\u001b[0m\n\u001b[0;32m    109\u001b[0m         \u001b[1;31m# Parameters.\u001b[0m\u001b[1;33m\u001b[0m\u001b[1;33m\u001b[0m\u001b[0m\n",
      "\u001b[1;31mValueError\u001b[0m: Model output \"Tensor(\"dense_5/BiasAdd:0\", shape=(None, 3), dtype=float32)\" has invalid shape. DQN expects a model that has one dimension for each action, in this case 2."
     ]
    }
   ],
   "source": [
    "dqn = build_agent(model, actions)\n",
    "dqn.compile(Adam(lr=1e-3), metrics=['mae'])\n",
    "dqn.fit(env, nb_steps=50000, visualize=False, verbose=1)"
   ]
  },
  {
   "cell_type": "code",
   "execution_count": null,
   "id": "58044221",
   "metadata": {},
   "outputs": [],
   "source": []
  }
 ],
 "metadata": {
  "kernelspec": {
   "display_name": "Python 3 (ipykernel)",
   "language": "python",
   "name": "python3"
  },
  "language_info": {
   "codemirror_mode": {
    "name": "ipython",
    "version": 3
   },
   "file_extension": ".py",
   "mimetype": "text/x-python",
   "name": "python",
   "nbconvert_exporter": "python",
   "pygments_lexer": "ipython3",
   "version": "3.9.7"
  }
 },
 "nbformat": 4,
 "nbformat_minor": 5
}
